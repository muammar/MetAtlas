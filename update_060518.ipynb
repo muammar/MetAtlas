{
 "cells": [
  {
   "cell_type": "code",
   "execution_count": 5,
   "metadata": {},
   "outputs": [],
   "source": [
    "import sys\n",
    "import pybel\n",
    "import imolecule\n",
    "from glom import glom\n",
    "from metatlas import create_launchpad, make_xyz_from_stored_data\n",
    "\n",
    "sys.path.append('./malt')\n",
    "# from malt.algorithm.topology import Fragmentation\n",
    "\n",
    "LOCAL_DB_CONFIG = '/home/bkrull/.fireworks/local_db.ini'\n",
    "lpad = create_launchpad(LOCAL_DB_CONFIG)\n",
    "\n",
    "# frag = Fragmentation()\n",
    "# compact = frag.weights_compact\n",
    "# longrange = frag.weights_longrange\n",
    "\n",
    "tmpdir = '/home/bkrull/Desktop/tmpdir/'"
   ]
  },
  {
   "cell_type": "code",
   "execution_count": 6,
   "metadata": {
    "collapsed": true
   },
   "outputs": [],
   "source": [
    "fw = lpad.get_fw_dict_by_id(1)\n",
    "\n",
    "def get_trajs(fw):\n",
    "    parent = glom(fw, 'launches.0.action.stored_data.parent')\n",
    "    children = glom(fw, 'launches.0.action.stored_data.protonated_children')\n",
    "\n",
    "    fbase = tmpdir + 'mol-{}-'.format(fw['fw_id'])\n",
    "    with open(fbase+'parent.xyz', 'w') as f:\n",
    "        for coords in parent['coords']:\n",
    "            f.write(\n",
    "                make_xyz_from_stored_data(parent['atom_list'], coords)\n",
    "            )\n",
    "            \n",
    "    print 'There are {} protonated children'.format(len(children))\n",
    "\n",
    "    for i, child in enumerate(children):\n",
    "        print 'This child was protonated at {}{} with hybridization {}'.format('', '', '')\n",
    "        print 'This child is predicted to fragment: {}'.format(child['likely_to_break'])\n",
    "        with open(fbase+'child-{}.xyz'.format(i), 'w') as f:\n",
    "            for coords in child['coords']:\n",
    "                f.write(\n",
    "                    make_xyz_from_stored_data(child['atom_list'], coords)\n",
    "                )\n",
    "                \n",
    "        print ''\n",
    "        \n",
    "    return parent, children"
   ]
  },
  {
   "cell_type": "code",
   "execution_count": 7,
   "metadata": {},
   "outputs": [
    {
     "name": "stdout",
     "output_type": "stream",
     "text": [
      "There are 2 protonated children\n",
      "This child was protonated at  with hybridization \n",
      "This child is predicted to fragment: True\n",
      "\n",
      "This child was protonated at  with hybridization \n",
      "This child is predicted to fragment: True\n",
      "\n"
     ]
    }
   ],
   "source": [
    "fw = lpad.get_fw_dict_by_id(5532)\n",
    "\n",
    "parent, children = get_trajs(fw)"
   ]
  },
  {
   "cell_type": "code",
   "execution_count": 9,
   "metadata": {
    "collapsed": true
   },
   "outputs": [],
   "source": [
    "import pickle\n",
    "    \n",
    "with open(tmpdir+'parent.pickle', 'wb') as handle:\n",
    "    pickle.dump(parent, handle, protocol=pickle.HIGHEST_PROTOCOL)  \n",
    "    \n",
    "with open(tmpdir+'children.pickle', 'wb') as handle:\n",
    "    pickle.dump(children, handle, protocol=pickle.HIGHEST_PROTOCOL)"
   ]
  },
  {
   "cell_type": "code",
   "execution_count": 10,
   "metadata": {
    "scrolled": true
   },
   "outputs": [
    {
     "data": {
      "text/html": [
       "<div id=\"molecule_4157c90e-a908-476e-bcb6-852e94e8cb5b\"></div>\n",
       "           <script type=\"text/javascript\">\n",
       "           require.config({baseUrl: '/',\n",
       "                           paths: {imolecule: ['nbextensions/imolecule.min', 'https://rawgit.com/patrickfuller/imolecule/master/imolecule/js/build/imolecule.min']}});\n",
       "           require(['imolecule'], function () {\n",
       "               var $d = $('#molecule_4157c90e-a908-476e-bcb6-852e94e8cb5b');\n",
       "               $d.width(400); $d.height(300);\n",
       "               $d.imolecule = jQuery.extend({}, imolecule);\n",
       "               $d.imolecule.create($d, {drawingType: 'ball and stick',\n",
       "                                        cameraType: 'perspective',\n",
       "                                        shader: 'lambert',\n",
       "                                        showSave: false});\n",
       "               $d.imolecule.addElements({});\n",
       "               $d.imolecule.draw({\"atoms\":[{\"charge\":-0.043549,\"element\":\"C\",\"location\":[-0.121572,2.369779,0.114674]},{\"charge\":0.053198,\"element\":\"C\",\"location\":[-0.129467,0.878142,-0.019600]},{\"charge\":0.043255,\"element\":\"C\",\"location\":[0.598664,-0.010919,-1.076082]},{\"charge\":0.017297,\"element\":\"C\",\"location\":[1.573509,-0.371390,0.048889]},{\"charge\":-0.286655,\"element\":\"N\",\"location\":[0.540724,0.017661,1.070009]},{\"charge\":0.041132,\"element\":\"C\",\"location\":[-0.635842,-0.965103,1.013213]},{\"charge\":0.016841,\"element\":\"C\",\"location\":[-0.487566,-2.018904,-0.091575]},{\"charge\":-0.288595,\"element\":\"N\",\"location\":[-0.620185,-0.941200,-1.133320]},{\"charge\":0.047235,\"element\":\"C\",\"location\":[-1.315540,-0.085844,-0.070251]},{\"charge\":0.024849,\"element\":\"H\",\"location\":[0.902206,2.754695,0.172328]},{\"charge\":0.024849,\"element\":\"H\",\"location\":[-0.615275,2.840235,-0.742652]},{\"charge\":0.024849,\"element\":\"H\",\"location\":[-0.645907,2.676441,1.025937]},{\"charge\":0.049388,\"element\":\"H\",\"location\":[0.946186,0.293268,-2.066815]},{\"charge\":0.044274,\"element\":\"H\",\"location\":[1.985123,-1.380714,0.130047]},{\"charge\":0.044274,\"element\":\"H\",\"location\":[2.402286,0.342660,0.101409]},{\"charge\":0.049130,\"element\":\"H\",\"location\":[-1.025567,-1.218290,2.001922]},{\"charge\":0.044257,\"element\":\"H\",\"location\":[0.401352,-2.652733,-0.150367]},{\"charge\":0.044257,\"element\":\"H\",\"location\":[-1.374525,-2.659705,-0.144514]},{\"charge\":0.049712,\"element\":\"H\",\"location\":[-2.378604,0.131922,-0.183252]}],\"bonds\":[{\"atoms\":[12,2],\"order\":1},{\"atoms\":[7,2],\"order\":1},{\"atoms\":[7,6],\"order\":1},{\"atoms\":[7,8],\"order\":1},{\"atoms\":[2,1],\"order\":1},{\"atoms\":[2,3],\"order\":1},{\"atoms\":[10,0],\"order\":1},{\"atoms\":[18,8],\"order\":1},{\"atoms\":[16,6],\"order\":1},{\"atoms\":[17,6],\"order\":1},{\"atoms\":[6,5],\"order\":1},{\"atoms\":[8,1],\"order\":1},{\"atoms\":[8,5],\"order\":1},{\"atoms\":[1,0],\"order\":1},{\"atoms\":[1,4],\"order\":1},{\"atoms\":[3,14],\"order\":1},{\"atoms\":[3,13],\"order\":1},{\"atoms\":[3,4],\"order\":1},{\"atoms\":[0,9],\"order\":1},{\"atoms\":[0,11],\"order\":1},{\"atoms\":[5,4],\"order\":1},{\"atoms\":[5,15],\"order\":1}],\"formula\":\"C7H10N2\",\"molecular_weight\":122.167700,\"units\":{\"molecular_weight\":\"g / mol\"}});\n",
       "\n",
       "               $d.resizable({\n",
       "                   aspectRatio: 400 / 300,\n",
       "                   resize: function (evt, ui) {\n",
       "                       $d.imolecule.renderer.setSize(ui.size.width,\n",
       "                                                     ui.size.height);\n",
       "                   }\n",
       "               });\n",
       "           });\n",
       "           </script>"
      ],
      "text/plain": [
       "<IPython.core.display.HTML object>"
      ]
     },
     "metadata": {},
     "output_type": "display_data"
    }
   ],
   "source": [
    "imolecule.draw(pybel.readstring('xyz', make_xyz_from_stored_data(parent['atom_list'], parent['coords'][0])), \n",
    "               format=\"pybel\")"
   ]
  },
  {
   "cell_type": "code",
   "execution_count": 11,
   "metadata": {},
   "outputs": [
    {
     "data": {
      "text/html": [
       "<div id=\"molecule_501292cc-1c81-435d-b164-7d0b8a93fd79\"></div>\n",
       "           <script type=\"text/javascript\">\n",
       "           require.config({baseUrl: '/',\n",
       "                           paths: {imolecule: ['nbextensions/imolecule.min', 'https://rawgit.com/patrickfuller/imolecule/master/imolecule/js/build/imolecule.min']}});\n",
       "           require(['imolecule'], function () {\n",
       "               var $d = $('#molecule_501292cc-1c81-435d-b164-7d0b8a93fd79');\n",
       "               $d.width(400); $d.height(300);\n",
       "               $d.imolecule = jQuery.extend({}, imolecule);\n",
       "               $d.imolecule.create($d, {drawingType: 'ball and stick',\n",
       "                                        cameraType: 'perspective',\n",
       "                                        shader: 'lambert',\n",
       "                                        showSave: false});\n",
       "               $d.imolecule.addElements({});\n",
       "               $d.imolecule.draw({\"atoms\":[{\"charge\":-0.075618,\"element\":\"C\",\"location\":[-0.155884,2.375662,0.079594]},{\"charge\":-0.074261,\"element\":\"C\",\"location\":[-0.163778,0.884024,-0.054681]},{\"charge\":-0.053181,\"element\":\"C\",\"location\":[0.564352,-0.005037,-1.111163]},{\"charge\":-0.086323,\"element\":\"C\",\"location\":[1.539197,-0.365507,0.013808]},{\"charge\":0.384538,\"element\":\"N\",\"location\":[0.506413,0.023543,1.034929]},{\"charge\":-0.074435,\"element\":\"C\",\"location\":[-0.670153,-0.959220,0.978132]},{\"charge\":-0.002719,\"element\":\"C\",\"location\":[-0.521877,-2.013021,-0.126656]},{\"charge\":-0.258250,\"element\":\"N\",\"location\":[-0.654496,-0.935317,-1.168400]},{\"charge\":-0.048224,\"element\":\"C\",\"location\":[-1.349852,-0.079962,-0.105332]},{\"charge\":0.021630,\"element\":\"H\",\"location\":[0.867895,2.760578,0.137248]},{\"charge\":0.021630,\"element\":\"H\",\"location\":[-0.649586,2.846118,-0.777732]},{\"charge\":0.021630,\"element\":\"H\",\"location\":[-0.680219,2.682324,0.990857]},{\"charge\":0.028684,\"element\":\"H\",\"location\":[0.911874,0.299151,-2.101895]},{\"charge\":0.006219,\"element\":\"H\",\"location\":[1.950811,-1.374831,0.094967]},{\"charge\":0.006219,\"element\":\"H\",\"location\":[2.367975,0.348543,0.066328]},{\"charge\":0.009220,\"element\":\"H\",\"location\":[-1.059879,-1.212407,1.966841]},{\"charge\":0.042151,\"element\":\"H\",\"location\":[0.367041,-2.646850,-0.185448]},{\"charge\":0.042151,\"element\":\"H\",\"location\":[-1.408836,-2.653822,-0.179594]},{\"charge\":0.029164,\"element\":\"H\",\"location\":[-2.412915,0.137805,-0.218332]},{\"charge\":-0.080693,\"element\":\"H\",\"location\":[0.906413,0.423543,1.434929]},{\"charge\":0.140468,\"element\":\"H\",\"location\":[-0.254496,-0.535317,-0.768400]}],\"bonds\":[{\"atoms\":[12,2],\"order\":1},{\"atoms\":[7,20],\"order\":1},{\"atoms\":[7,6],\"order\":1},{\"atoms\":[2,3],\"order\":1},{\"atoms\":[10,0],\"order\":1},{\"atoms\":[18,8],\"order\":1},{\"atoms\":[16,6],\"order\":1},{\"atoms\":[17,6],\"order\":1},{\"atoms\":[6,5],\"order\":1},{\"atoms\":[8,1],\"order\":1},{\"atoms\":[1,0],\"order\":1},{\"atoms\":[1,4],\"order\":1},{\"atoms\":[3,14],\"order\":1},{\"atoms\":[3,13],\"order\":1},{\"atoms\":[3,4],\"order\":1},{\"atoms\":[0,9],\"order\":1},{\"atoms\":[0,11],\"order\":1},{\"atoms\":[5,4],\"order\":1},{\"atoms\":[5,15],\"order\":1},{\"atoms\":[4,19],\"order\":1}],\"formula\":\"C7H12N2\",\"molecular_weight\":124.183580,\"units\":{\"molecular_weight\":\"g / mol\"}});\n",
       "\n",
       "               $d.resizable({\n",
       "                   aspectRatio: 400 / 300,\n",
       "                   resize: function (evt, ui) {\n",
       "                       $d.imolecule.renderer.setSize(ui.size.width,\n",
       "                                                     ui.size.height);\n",
       "                   }\n",
       "               });\n",
       "           });\n",
       "           </script>"
      ],
      "text/plain": [
       "<IPython.core.display.HTML object>"
      ]
     },
     "metadata": {},
     "output_type": "display_data"
    }
   ],
   "source": [
    "imolecule.draw(pybel.readstring('xyz', make_xyz_from_stored_data(children[1]['atom_list'], \n",
    "                                                                 children[1]['coords'][0])), \n",
    "               format=\"pybel\")"
   ]
  },
  {
   "cell_type": "markdown",
   "metadata": {},
   "source": [
    "+ Picture of molecule and where it will be protonated\n",
    "+ Prediction based on simple hybridization rules. WILL IT BREAK?\n",
    "+ Animation of optimization trajectory, coords and graph\n",
    "+ Graph cut results. Did it break?"
   ]
  },
  {
   "cell_type": "code",
   "execution_count": null,
   "metadata": {
    "collapsed": true
   },
   "outputs": [],
   "source": []
  }
 ],
 "metadata": {
  "anaconda-cloud": {},
  "kernelspec": {
   "display_name": "Python [conda root]",
   "language": "python",
   "name": "conda-root-py"
  },
  "language_info": {
   "codemirror_mode": {
    "name": "ipython",
    "version": 2
   },
   "file_extension": ".py",
   "mimetype": "text/x-python",
   "name": "python",
   "nbconvert_exporter": "python",
   "pygments_lexer": "ipython2",
   "version": "2.7.15"
  },
  "toc": {
   "colors": {
    "hover_highlight": "#DAA520",
    "navigate_num": "#000000",
    "navigate_text": "#333333",
    "running_highlight": "#FF0000",
    "selected_highlight": "#FFD700",
    "sidebar_border": "#EEEEEE",
    "wrapper_background": "#FFFFFF"
   },
   "moveMenuLeft": true,
   "nav_menu": {
    "height": "12px",
    "width": "252px"
   },
   "navigate_menu": true,
   "number_sections": true,
   "sideBar": true,
   "threshold": 4,
   "toc_cell": false,
   "toc_section_display": "block",
   "toc_window_display": false,
   "widenNotebook": false
  }
 },
 "nbformat": 4,
 "nbformat_minor": 2
}
