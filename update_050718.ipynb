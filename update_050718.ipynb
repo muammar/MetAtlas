{
 "cells": [
  {
   "cell_type": "markdown",
   "metadata": {
    "nbpresent": {
     "id": "4d890289-2b7e-4bad-94ee-a1000c103a6e"
    }
   },
   "source": [
    "# Update 5/7/18"
   ]
  },
  {
   "cell_type": "markdown",
   "metadata": {
    "nbpresent": {
     "id": "211c97e6-8920-4268-b003-1b9ef4f07530"
    }
   },
   "source": [
    "## Tasks from last meeting\n",
    "Cannot compute protonation energies without energy/structure of neutral molecule\n",
    "1. Compute optimized neutral structures for QM9\n",
    "2. Using (1), compute the protonation energies for each of the different protonation sites"
   ]
  },
  {
   "cell_type": "markdown",
   "metadata": {
    "nbpresent": {
     "id": "e21b14aa-2372-44dd-9e18-a6bd69432849"
    }
   },
   "source": [
    "### Compute optimized neutral structures for QM9\n",
    "\n",
    "+ Refactored code to compute neutral molecule struct/energy and to return protonation energies for each DB entry\n",
    "\n",
    "These were in progress until I noticed something fishy with the protonated molecules.."
   ]
  },
  {
   "cell_type": "markdown",
   "metadata": {},
   "source": [
    "### Compute protonation energies for each of the different protonation sites\n",
    "#### Some protonated molecules don't behave so well"
   ]
  },
  {
   "cell_type": "code",
   "execution_count": 7,
   "metadata": {
    "nbpresent": {
     "id": "4e02d81e-fb19-4b2d-80bd-fdaf1ee302d7"
    },
    "scrolled": false
   },
   "outputs": [
    {
     "data": {
      "text/html": [
       "<img src=\"./movie.gif\" width=500px>"
      ],
      "text/plain": [
       "<IPython.core.display.HTML object>"
      ]
     },
     "execution_count": 7,
     "metadata": {},
     "output_type": "execute_result"
    }
   ],
   "source": [
    "from IPython.display import HTML\n",
    "HTML('<img src=\"./movie.gif\" width=500px>')"
   ]
  },
  {
   "cell_type": "markdown",
   "metadata": {},
   "source": [
    "#### How to address\n",
    "\n",
    "+ Openbabel/Pybel's `atom` class has properties such as 'heavyvalence' and 'hybridization' \n",
    "which allow for the distinction of ONF atoms based on their neighboring atoms.\n",
    "\n",
    "+ Tag/ignore _sp3_ (ester/ether) oxygens which often lead to bond breaking\n",
    "+ Focus more on aldehyde/ketone _sp2_ oxygens which won't act as leaving group"
   ]
  },
  {
   "cell_type": "markdown",
   "metadata": {},
   "source": [
    "## Open Questions and Next Steps"
   ]
  },
  {
   "cell_type": "markdown",
   "metadata": {},
   "source": [
    "+ Unclear which protonated molecules stayed together vs. broke apart (currently)\n",
    "+ Other chemistry rules for tagging/ignoring certain protonation sites?\n",
    "+ With a valid set of protonated molecules, what is the best representation for input to ML?\n",
    "\n",
    "\n",
    "+ With more robust rules/identification, proceed with tagging and finishing QM9 protonation calculations "
   ]
  },
  {
   "cell_type": "markdown",
   "metadata": {},
   "source": [
    "# Notes"
   ]
  },
  {
   "cell_type": "markdown",
   "metadata": {},
   "source": [
    "Send (how to draw molecule) code\n",
    "How to run electronic structure code?\n",
    "\n",
    "Expect data in the form of SMILES -> xyz-ish files"
   ]
  }
 ],
 "metadata": {
  "anaconda-cloud": {},
  "kernelspec": {
   "display_name": "Python [conda root]",
   "language": "python",
   "name": "conda-root-py"
  },
  "language_info": {
   "codemirror_mode": {
    "name": "ipython",
    "version": 2
   },
   "file_extension": ".py",
   "mimetype": "text/x-python",
   "name": "python",
   "nbconvert_exporter": "python",
   "pygments_lexer": "ipython2",
   "version": "2.7.13"
  },
  "nbpresent": {
   "slides": {
    "02587ad8-5c83-4d60-b632-96bfb87c168c": {
     "id": "02587ad8-5c83-4d60-b632-96bfb87c168c",
     "prev": "71270808-6019-4a22-ac2c-4305a105efae",
     "regions": {
      "63da44c9-0d7f-4569-8813-47b805d2f54f": {
       "attrs": {
        "height": 0.8,
        "width": 0.8,
        "x": 0.1,
        "y": 0.1
       },
       "content": {
        "cell": "4e02d81e-fb19-4b2d-80bd-fdaf1ee302d7",
        "part": "whole"
       },
       "id": "63da44c9-0d7f-4569-8813-47b805d2f54f"
      }
     }
    },
    "4ad5d705-552c-4773-97b5-33a84be68a1b": {
     "id": "4ad5d705-552c-4773-97b5-33a84be68a1b",
     "prev": "57b48c4a-b25f-46e3-baba-19f1a7cb9f64",
     "regions": {
      "90a1ee54-76a7-4489-9214-d0854224df9e": {
       "attrs": {
        "height": 0.8,
        "width": 0.8,
        "x": 0.1,
        "y": 0.1
       },
       "content": {
        "cell": "211c97e6-8920-4268-b003-1b9ef4f07530",
        "part": "whole"
       },
       "id": "90a1ee54-76a7-4489-9214-d0854224df9e"
      }
     }
    },
    "57b48c4a-b25f-46e3-baba-19f1a7cb9f64": {
     "id": "57b48c4a-b25f-46e3-baba-19f1a7cb9f64",
     "prev": null,
     "regions": {
      "b6e8ce32-4758-47d7-a0ac-229602013c1d": {
       "attrs": {
        "height": 0.8,
        "width": 0.8,
        "x": 0.1,
        "y": 0.1
       },
       "content": {
        "cell": "4d890289-2b7e-4bad-94ee-a1000c103a6e",
        "part": "whole"
       },
       "id": "b6e8ce32-4758-47d7-a0ac-229602013c1d"
      }
     }
    },
    "71270808-6019-4a22-ac2c-4305a105efae": {
     "id": "71270808-6019-4a22-ac2c-4305a105efae",
     "prev": "4ad5d705-552c-4773-97b5-33a84be68a1b",
     "regions": {
      "939cb587-bbf0-43c9-b6b0-c1162fae0326": {
       "attrs": {
        "height": 0.8,
        "width": 0.8,
        "x": 0.1,
        "y": 0.1
       },
       "content": {
        "cell": "e21b14aa-2372-44dd-9e18-a6bd69432849",
        "part": "whole"
       },
       "id": "939cb587-bbf0-43c9-b6b0-c1162fae0326"
      }
     }
    }
   },
   "themes": {}
  }
 },
 "nbformat": 4,
 "nbformat_minor": 2
}
